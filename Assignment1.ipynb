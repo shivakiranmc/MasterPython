{
 "cells": [
  {
   "cell_type": "markdown",
   "metadata": {},
   "source": [
    "Given 2 numbers, a for the purchase amount in rupees, and b for the quality of service(1-5) received, Calculate the tip according to the following table\n",
    "\n",
    "Quality Tip Percent 1 5% 2 10% 3 15% 4 20% 5 25%"
   ]
  },
  {
   "cell_type": "code",
   "execution_count": null,
   "metadata": {},
   "outputs": [],
   "source": [
    "a = int(input(\"Enter the purchase amount in rupees :\"))\n",
    "b = int(input(\"Enter the quality of service received(1-5):\"))\n",
    "if b == 1:\n",
    "    tip = a*5/100\n",
    "    print(\"tip amount is %d rupees\" %tip)\n",
    "elif b == 2:\n",
    "    tip = a*10/100\n",
    "    print(\"tip amount is %d rupees\" %tip)\n",
    "elif b == 3:\n",
    "    tip = a*15/100\n",
    "    print(\"tip amount is %d rupees\" %tip)\n",
    "elif b == 4:\n",
    "    tip = a*20/100\n",
    "    print(\"tip amount is %d rupees\" %tip)\n",
    "elif b == 5:\n",
    "    tip = a*25/100\n",
    "    print(\"tip amount is %d rupees\" %tip)\n",
    "else:\n",
    "    print(\"You have entered 'invalid' quality of service. Please enter the value in between 1 and 5\")"
   ]
  },
  {
   "cell_type": "markdown",
   "metadata": {},
   "source": [
    "Write a program to count the total number of notes in a given amount. Valid notes:10, 20, 50, 100, 500, 2000 eg : amount 2510, expected output is 2000=1,500=1,10=1"
   ]
  },
  {
   "cell_type": "code",
   "execution_count": null,
   "metadata": {},
   "outputs": [],
   "source": [
    "givAmount = int(input(\"Enter the amount and I will tell you total number of notes in a given amount:\"))\n",
    "l = [2000,500,100,50,20,10]\n",
    "for value in l:\n",
    "    notes = givAmount//value\n",
    "    remain = givAmount % value\n",
    "    givAmount = remain\n",
    "    if notes >= 1:\n",
    "        print(\"{v1} notes:{n1}\".format(v1=value,n1=notes))"
   ]
  },
  {
   "cell_type": "markdown",
   "metadata": {},
   "source": [
    "Write a program to print Collatz Conjecture sequence for number 50.\n",
    "\n",
    "Collatz Conjecture: Take any number n. If n is even, divide it by 2, if n is odd, multiply it by 3 and add 1. Repeat the process indefinitely and you'll eventually reach 1."
   ]
  },
  {
   "cell_type": "code",
   "execution_count": null,
   "metadata": {},
   "outputs": [],
   "source": [
    "number =int(input(\"Enter a number:\"))\n",
    "if number <= 0:\n",
    "    raise ValueError(\"Only positive, non-zero integers are allowed!\")\n",
    "steps = 0\n",
    "while number != 1:\n",
    "    print(number, end=' ')\n",
    "    if number % 2:     # if 1, then True else false\n",
    "                       # if number % 2 is 1, that means number is odd \n",
    "        number = number * 3 + 1\n",
    "    else:\n",
    "        number //= 2\n",
    "print(1, end=' ')"
   ]
  },
  {
   "cell_type": "markdown",
   "metadata": {},
   "source": [
    "Write a program to check if two given strings are an anagram of each other or not. Anagram Strings: Two strings are anagrams if they are written using the exact letters, ignoring space, punctuation, and capitalization.\n",
    "\n",
    "For example : Input: \"Army\" and \"Mary\" Output \"Strings are anagrams of each other\""
   ]
  },
  {
   "cell_type": "code",
   "execution_count": null,
   "metadata": {},
   "outputs": [],
   "source": [
    "str1 = str(input(\"Enter the first string:\"))\n",
    "str2 = str(input(\"Enter the second string:\"))\n",
    "n1 = len(str1)\n",
    "n2 = len(str2)\n",
    "if n1 != n2:\n",
    "    raise ValueError(\"Enter the two strings with same length!\")\n",
    "else:\n",
    "    str3 = str1.lower()\n",
    "    str4 = str2.lower()\n",
    "    list1 = sorted(str3)\n",
    "    list2 = sorted(str4)\n",
    "    if list1 == list2:\n",
    "        print (\"The two strings are anagram of each other\") \n",
    "    else:\n",
    "        print (\"The two strings are not anagram of each other\")"
   ]
  },
  {
   "cell_type": "markdown",
   "metadata": {},
   "source": [
    "Caesar's cipher shifts each letter by a number of letters. If the shift takes you past the end of the alphabet, just rotate back to the front of the alphabet. In the case of rotation by 3, w, x, y, and z would map to z, a, b and c. For example, if the string is: \"welcome\" and the shift is 4 the output will be \"aipgtqi\""
   ]
  },
  {
   "cell_type": "code",
   "execution_count": null,
   "metadata": {},
   "outputs": [],
   "source": [
    "text = str(input(\"Enter the string:\"))\n",
    "s = int(input(\"Enter shift number: \"))\n",
    "result = \"\"\n",
    "for i in range(len(text)): \n",
    "    char = text[i] \n",
    "        # Encrypt uppercase characters \n",
    "    if (char.isupper()): \n",
    "        result += chr((ord(char) + s - 65) % 26 + 65) \n",
    "        # Encrypt lowercase characters \n",
    "    else: \n",
    "        result += chr((ord(char) + s - 97) % 26 + 97) \n",
    "print(\"original string: \", text)\n",
    "print(\"after encryption: \",result)"
   ]
  },
  {
   "cell_type": "markdown",
   "metadata": {},
   "source": [
    "Write a program to find all pairs in a list of Integers Whose sum is equal to a given Number.\n",
    "\n",
    "For example nums = [1,2,3,4,5] sum = 7 expected output is ans = [(3,4),(2,5),(4,3),(5,2)]"
   ]
  },
  {
   "cell_type": "code",
   "execution_count": null,
   "metadata": {},
   "outputs": [],
   "source": [
    "input_string = input(\"Enter a list element separated by space \")\n",
    "list1  = input_string.split()\n",
    "sum1 = int(input(\"The sum is:\"))\n",
    "n = len(list1)\n",
    "print(\"Pairs in a list of interger whose sum is equal to %s is:\" %sum1)\n",
    "for i in range(0,n):\n",
    "    for j in range (0,n):\n",
    "        sum2 = i + j\n",
    "        if (sum2 == sum1):\n",
    "            print(\"(\",i,\",\",j,\")\")"
   ]
  }
 ],
 "metadata": {
  "kernelspec": {
   "display_name": "Python 3",
   "language": "python",
   "name": "python3"
  },
  "language_info": {
   "codemirror_mode": {
    "name": "ipython",
    "version": 3
   },
   "file_extension": ".py",
   "mimetype": "text/x-python",
   "name": "python",
   "nbconvert_exporter": "python",
   "pygments_lexer": "ipython3",
   "version": "3.7.3"
  }
 },
 "nbformat": 4,
 "nbformat_minor": 2
}
