{
 "cells": [
  {
   "cell_type": "markdown",
   "metadata": {},
   "source": [
    "# To check whether given number is 'even' or 'odd'"
   ]
  },
  {
   "cell_type": "code",
   "execution_count": null,
   "metadata": {
    "scrolled": true
   },
   "outputs": [],
   "source": [
    "num = int(input('Enter a number: '))\n",
    "if (num % 2 == 0):\n",
    "    print(\"Even number\")\n",
    "else: \n",
    "    print(\"Number is not even number\")"
   ]
  },
  {
   "cell_type": "markdown",
   "metadata": {},
   "source": [
    "# To check if the perticular character is 'vowel' or 'consonant'"
   ]
  },
  {
   "cell_type": "code",
   "execution_count": null,
   "metadata": {},
   "outputs": [],
   "source": [
    "char = input(\"Input a letter of the alphabet: \")\n",
    "if (char == 'a' or char == 'A' or char == 'e' or char == 'E' or char == 'i' or char == 'I' or char == 'o' or char == 'O' or char == 'u' or char == 'U'):\n",
    "    print(\"%s is a vowel\" %char)\n",
    "else:\n",
    "    print(\"%s is a consonant\" %char)"
   ]
  },
  {
   "cell_type": "markdown",
   "metadata": {},
   "source": [
    "# To add two numbers with 'conditions'"
   ]
  },
  {
   "cell_type": "code",
   "execution_count": null,
   "metadata": {},
   "outputs": [],
   "source": [
    "num1 = int(input('Enter first number: '))\n",
    "num2 = int(input('Enter second number: '))\n",
    "sum = 0\n",
    "if (num1 == num2):\n",
    "\tsum = (num1+num2)*2\n",
    "\tprint(sum)\n",
    "else:\n",
    "\tsum = (num1+num2)\n",
    "\tprint(sum)"
   ]
  },
  {
   "cell_type": "markdown",
   "metadata": {},
   "source": [
    "# To caclulate profit or loss "
   ]
  },
  {
   "cell_type": "code",
   "execution_count": null,
   "metadata": {},
   "outputs": [],
   "source": [
    "cost = 100\n",
    "sell = 200\n",
    "if (sell > cost):\n",
    "\tprof = sell - cost\n",
    "\tprint(\"Profit of\", prof)\n",
    "else:\n",
    "\tloss = cost - sell\n",
    "\tprint(\"Loss of\", loss)"
   ]
  },
  {
   "cell_type": "markdown",
   "metadata": {},
   "source": [
    "# To check whether a triange is valid or not"
   ]
  },
  {
   "cell_type": "code",
   "execution_count": null,
   "metadata": {},
   "outputs": [],
   "source": [
    "angle1 = int(input('Please Enter the First Angle of a Triangle: '))\n",
    "angle2 = int(input('Please Enter the Second Angle of a Triangle: '))\n",
    "angle3 = int(input('Please Enter the Third Angle of a Triangle: '))\n",
    "sum = angle1+angle2+angle3\n",
    "print (sum)\n",
    "if (sum==180 and angle1!=0 and angle2!=0 and angle3!=0):\n",
    "    print (\"Triangle is Valid\")\n",
    "else:\n",
    "    print (\"Triangle is not Valid\")"
   ]
  }
 ],
 "metadata": {
  "kernelspec": {
   "display_name": "Python 3",
   "language": "python",
   "name": "python3"
  },
  "language_info": {
   "codemirror_mode": {
    "name": "ipython",
    "version": 3
   },
   "file_extension": ".py",
   "mimetype": "text/x-python",
   "name": "python",
   "nbconvert_exporter": "python",
   "pygments_lexer": "ipython3",
   "version": "3.7.3"
  }
 },
 "nbformat": 4,
 "nbformat_minor": 2
}
